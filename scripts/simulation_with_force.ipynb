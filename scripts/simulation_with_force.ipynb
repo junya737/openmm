{
 "cells": [
  {
   "cell_type": "code",
   "execution_count": 1,
   "metadata": {},
   "outputs": [
    {
     "data": {
      "application/vnd.jupyter.widget-view+json": {
       "model_id": "ecca121073ea4a67b44e6ebdbdddf3f6",
       "version_major": 2,
       "version_minor": 0
      },
      "text/plain": []
     },
     "metadata": {},
     "output_type": "display_data"
    }
   ],
   "source": [
    "from openmm.app import *\n",
    "from openmm import *\n",
    "from openmm.unit import *\n",
    "from sys import stdout\n",
    "import MDAnalysis as mda\n",
    "import nglview as nv\n",
    "import numpy as np\n",
    "import pandas as pd\n",
    "import datetime\n"
   ]
  },
  {
   "cell_type": "code",
   "execution_count": 2,
   "metadata": {},
   "outputs": [
    {
     "name": "stdout",
     "output_type": "stream",
     "text": [
      "#\"Step\",\"Potential Energy (kJ/mole)\",\"Temperature (K)\"\n",
      "10,-165931.84218246874,14.700145233862997\n"
     ]
    }
   ],
   "source": [
    "# Input pdb\n",
    "pdb = PDBFile('../data/raw/input.pdb')\n",
    "forcefield = ForceField('amber14-all.xml', 'amber14/tip3pfb.xml')\n",
    "system = forcefield.createSystem(pdb.topology, nonbondedMethod=PME, nonbondedCutoff=1*nanometer, constraints=HBonds)\n",
    "integrator = LangevinMiddleIntegrator(300*kelvin, 1/picosecond, 0.004*picoseconds)\n",
    "simulation = Simulation(pdb.topology, system, integrator)\n",
    "\n",
    "# The initial atom positions\n",
    "simulation.context.setPositions(pdb.positions)\n",
    "# A local energy minimization\n",
    "simulation.minimizeEnergy()\n",
    "\n",
    "# Append the reporters\n",
    "simulation.reporters.append(PDBReporter('../data/result/output.pbd', 1))\n",
    "simulation.reporters.append(DCDReporter('../data/result/trajectory.dcd', 1))\n",
    "simulation.reporters.append(StateDataReporter(stdout, 10, step=True, potentialEnergy=True, temperature=True))\n",
    "\n",
    "timestep = 10\n",
    "positions = []\n",
    "forces = []\n",
    "# Get postions and forces at each frame\n",
    "for i in range(timestep):\n",
    "    simulation.step(1)\n",
    "    # Create state object\n",
    "    state = simulation.context.getState(getPositions=True, getForces=True)\n",
    "    positions.append(state.getPositions(asNumpy=True).value_in_unit(angstrom))\n",
    "    forces.append(state.getForces(asNumpy=True).value_in_unit(kilojoules/mole/nanometer))\n",
    "\n",
    "# Save file\n",
    "dt_now = datetime.datetime.now()\n",
    "now = dt_now.strftime('%Y%m%d_%H%M%S')\n",
    "np.save(f\"../data/result/positions_{now}\", positions)\n",
    "np.save(f\"../data/result/forces_{now}\", forces)"
   ]
  },
  {
   "cell_type": "code",
   "execution_count": 3,
   "metadata": {},
   "outputs": [
    {
     "name": "stdout",
     "output_type": "stream",
     "text": [
      "The shape of postions (10, 8867, 3)\n",
      "The shape of forces (10, 8867, 3)\n"
     ]
    }
   ],
   "source": [
    "np.shape(positions)\n",
    "print(f\"The shape of postions {np.shape(positions)}\")\n",
    "print(f\"The shape of forces {np.shape(forces)}\")"
   ]
  },
  {
   "cell_type": "code",
   "execution_count": 12,
   "metadata": {},
   "outputs": [],
   "source": [
    "positions = np.load(\"../data/result/forces_20231120_143810.npy\")\n",
    "forces = np.load(\"../data/result/positions_20231120_143810.npy\")"
   ]
  },
  {
   "cell_type": "code",
   "execution_count": 3,
   "metadata": {},
   "outputs": [
    {
     "name": "stderr",
     "output_type": "stream",
     "text": [
      "Warning: importing 'simtk.openmm' is deprecated.  Import 'openmm' instead.\n",
      "/home/bizon/anaconda3/envs/openmm-junya/lib/python3.9/site-packages/MDAnalysis/topology/PDBParser.py:317: UserWarning: Element information is missing, elements attribute will not be populated. If needed these can be guessed using MDAnalysis.topology.guessers.\n",
      "  warnings.warn(\"Element information is missing, elements attribute \"\n"
     ]
    },
    {
     "data": {
      "application/vnd.jupyter.widget-view+json": {
       "model_id": "dc1e4c484356449dae6e1649176dd1bf",
       "version_major": 2,
       "version_minor": 0
      },
      "text/plain": [
       "NGLWidget(max_frame=99)"
      ]
     },
     "metadata": {},
     "output_type": "display_data"
    }
   ],
   "source": [
    "# Visulalize the simulation\n",
    "md_u = mda.Universe(\"../examples/input.pdb\", \"../data/result/trajectory.dcd\")\n",
    "view = nv.show_mdanalysis(md_u)\n",
    "view"
   ]
  }
 ],
 "metadata": {
  "kernelspec": {
   "display_name": "openmm",
   "language": "python",
   "name": "python3"
  },
  "language_info": {
   "codemirror_mode": {
    "name": "ipython",
    "version": 3
   },
   "file_extension": ".py",
   "mimetype": "text/x-python",
   "name": "python",
   "nbconvert_exporter": "python",
   "pygments_lexer": "ipython3",
   "version": "3.9.18"
  },
  "orig_nbformat": 4
 },
 "nbformat": 4,
 "nbformat_minor": 2
}
